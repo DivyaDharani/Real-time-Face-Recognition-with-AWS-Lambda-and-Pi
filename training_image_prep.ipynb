{
 "cells": [
  {
   "cell_type": "code",
   "execution_count": null,
   "id": "ba180be8",
   "metadata": {},
   "outputs": [],
   "source": [
    "from PIL import Image\n",
    "import glob\n",
    "import os"
   ]
  },
  {
   "cell_type": "code",
   "execution_count": null,
   "id": "e1096a1b",
   "metadata": {},
   "outputs": [],
   "source": [
    "images_path = 'images/Cropped Images/*.png'"
   ]
  },
  {
   "cell_type": "code",
   "execution_count": null,
   "id": "3fd0f913",
   "metadata": {},
   "outputs": [],
   "source": [
    "#1. Resizing the images to 160x160\n",
    "#2. Converting from RGBA to RGB\n",
    "\n",
    "for filepath in glob.glob(images_path):\n",
    "    image_name = os.path.basename(filepath)\n",
    "    image = Image.open(filepath)\n",
    "    #print(image_name, image.mode)\n",
    "    image = image.resize((160,160),Image.ANTIALIAS)\n",
    "    image = image.convert('RGB')\n",
    "    #display(image)\n",
    "    storing_path = \"images/Resized Images/\" + image_name\n",
    "    image.save(fp=storing_path)\n",
    "    print(image_name, image.mode)"
   ]
  },
  {
   "cell_type": "code",
   "execution_count": null,
   "id": "444d0ecd",
   "metadata": {},
   "outputs": [],
   "source": []
  }
 ],
 "metadata": {
  "kernelspec": {
   "display_name": "Python 3",
   "language": "python",
   "name": "python3"
  },
  "language_info": {
   "codemirror_mode": {
    "name": "ipython",
    "version": 3
   },
   "file_extension": ".py",
   "mimetype": "text/x-python",
   "name": "python",
   "nbconvert_exporter": "python",
   "pygments_lexer": "ipython3",
   "version": "3.7.11"
  }
 },
 "nbformat": 4,
 "nbformat_minor": 5
}
